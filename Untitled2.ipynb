{
  "nbformat": 4,
  "nbformat_minor": 0,
  "metadata": {
    "colab": {
      "name": "Untitled2.ipynb",
      "provenance": [],
      "collapsed_sections": [],
      "mount_file_id": "1Vn6TKRB7i2O06SLPc3WLiD_Ht-al89Ha",
      "authorship_tag": "ABX9TyPi6lviKJ4Pn3fWUszo6fs3",
      "include_colab_link": true
    },
    "kernelspec": {
      "name": "python3",
      "display_name": "Python 3"
    },
    "accelerator": "GPU"
  },
  "cells": [
    {
      "cell_type": "markdown",
      "metadata": {
        "id": "view-in-github",
        "colab_type": "text"
      },
      "source": [
        "<a href=\"https://colab.research.google.com/github/FabianMartinez1234567/Transform-Pokemon-Resolution/blob/main/Untitled2.ipynb\" target=\"_parent\"><img src=\"https://colab.research.google.com/assets/colab-badge.svg\" alt=\"Open In Colab\"/></a>"
      ]
    },
    {
      "cell_type": "code",
      "metadata": {
        "id": "6Q8Xmf8EN2_X"
      },
      "source": [
        "%tensorflow_version 2.x\r\n"
      ],
      "execution_count": 140,
      "outputs": []
    },
    {
      "cell_type": "code",
      "metadata": {
        "colab": {
          "base_uri": "https://localhost:8080/"
        },
        "id": "5Z9K13Pu5stI",
        "outputId": "52eed368-03e5-4227-e1cc-4cf11b7d8df9"
      },
      "source": [
        "import tensorflow as tf\r\n",
        "import matplotlib.pyplot as plt\r\n",
        "import numpy as np\r\n",
        "#Ruta raiz\r\n",
        "PATH = \"/content/drive/MyDrive/Transform-Pokemon-Resolution\"\r\n",
        "#Ruta de entrada\r\n",
        "INPATH= PATH + \"/Input Pokemon\"\r\n",
        "#Ruta de salida\r\n",
        "OUPATH = PATH + \"/outputPoke\"\r\n",
        "#Check Poins\r\n",
        "CKPATH = PATH + \"/checkpoints\"\r\n",
        "\r\n",
        "imgurls = !ls -1 \"{INPATH}\"\r\n",
        "\r\n",
        "n = 151  #La cantidad de imagenes que voy a utilizar \r\n",
        "train_n = round(n * 0.80)#El porcentaje de images diferentes que voy a tener\r\n",
        "\r\n",
        "#Lista randomizada\r\n",
        "randurls = np.copy(imgurls)\r\n",
        "\r\n",
        "np.random.seed(23)\r\n",
        "np.random.shuffle(randurls)\r\n",
        "\r\n",
        "#Particion train / test\r\n",
        "\r\n",
        "tr_urls = randurls[:train_n]\r\n",
        "ts_urls = randurls[train_n:n]\r\n",
        "#151 en la carpeta, 121 para entrenar y 30 diferentas\r\n",
        "print(len(imgurls), len(tr_urls), len(ts_urls))\r\n"
      ],
      "execution_count": 120,
      "outputs": [
        {
          "output_type": "stream",
          "text": [
            "151 121 30\n"
          ],
          "name": "stdout"
        }
      ]
    },
    {
      "cell_type": "code",
      "metadata": {
        "colab": {
          "base_uri": "https://localhost:8080/",
          "height": 304
        },
        "id": "eq25GyQZ_rtN",
        "outputId": "a5f6322d-915a-4b73-dfad-8e6c68192edf"
      },
      "source": [
        "IMG_WIDTH = 256\r\n",
        "IMG_HEIGHT = 256\r\n",
        "\r\n",
        "#Reescalamos las imagenes\r\n",
        "def resize(inimg, tgimg, height, width):\r\n",
        "  inimg = tf.image.resize(inimg, [height, width])\r\n",
        "  tgimg = tf.image.resize(tgimg, [height, width])\r\n",
        "  \r\n",
        "  return inimg, tgimg\r\n",
        "\r\n",
        "#Normaliza el rango [-1, +1] la imagen\r\n",
        "def normalize(inimg, tgimg):\r\n",
        "  inimg = (inimg / 127.5) - 1\r\n",
        "  tgimg = (tgimg / 127.5) - 1\r\n",
        "\r\n",
        "  return inimg, tgimg\r\n",
        "\r\n",
        "@tf.function()\r\n",
        "#Aumentacion de datos: Random Crop + Flip\r\n",
        "def random_jitter(inimg, tgimg):\r\n",
        "  inimg, tgimg = resize(inimg, tgimg, 286, 286)\r\n",
        "\r\n",
        "  stacked_image = tf.stack([inimg, tgimg], axis = 0)\r\n",
        "  cropped_image = tf.image.random_crop(stacked_image, size = [2, IMG_HEIGHT, IMG_WIDTH, 3])\r\n",
        "\r\n",
        "  inimg, tgimg = cropped_image[0], cropped_image[1]\r\n",
        "  \r\n",
        "  if tf.random.uniform(()) > 0.5:\r\n",
        "\r\n",
        "    inimg = tf.image.flip_left_right(inimg)\r\n",
        "    tgimg = tf.image.flip_left_right(tgimg)\r\n",
        "\r\n",
        "  return inimg, tgimg\r\n",
        "\r\n",
        "def load_image(filename, augment=True):\r\n",
        "\r\n",
        "  inimg = tf.cast(tf.image.decode_jpeg(tf.io.read_file(INPATH + '/' + filename)), tf.float32)[..., :3]\r\n",
        "  tgimg = tf.cast(tf.image.decode_jpeg(tf.io.read_file(OUPATH + '/' + filename)), tf.float32)[..., :3]\r\n",
        "\r\n",
        "  inimg, tgimg = resize(inimg, tgimg, IMG_HEIGHT, IMG_WIDTH)\r\n",
        "\r\n",
        "  if augment:\r\n",
        "    inimg, tgimg = random_jitter(inimg, tgimg)\r\n",
        "\r\n",
        "  inimg, tgimg = normalize(inimg, tgimg)\r\n",
        "  return inimg, tgimg\r\n",
        "\r\n",
        "def load_train_image(filename):\r\n",
        "  return load_image(filename, True)\r\n",
        "\r\n",
        "def load_test_image(filename):\r\n",
        "  return load_image(filename, False)\r\n",
        "\r\n",
        "plt.imshow((load_train_image(randurls[0])[1]) + 1 / 2)\r\n"
      ],
      "execution_count": 121,
      "outputs": [
        {
          "output_type": "stream",
          "text": [
            "Clipping input data to the valid range for imshow with RGB data ([0..1] for floats or [0..255] for integers).\n"
          ],
          "name": "stderr"
        },
        {
          "output_type": "execute_result",
          "data": {
            "text/plain": [
              "<matplotlib.image.AxesImage at 0x7fdf8dc0fc50>"
            ]
          },
          "metadata": {
            "tags": []
          },
          "execution_count": 121
        },
        {
          "output_type": "display_data",
          "data": {
            "image/png": "[encoded data removed]",
            "text/plain": [
              "<Figure size 432x288 with 1 Axes>"
            ]
          },
          "metadata": {
            "tags": [],
            "needs_background": "light"
          }
        }
      ]
    },
    {
      "cell_type": "code",
      "metadata": {
        "id": "V7-Avdf_YHEk"
      },
      "source": [
        "#Zona de Carga de datos\r\n",
        "train_dataset = tf.data.Dataset.from_tensor_slices(tr_urls)\r\n",
        "train_dataset = train_dataset.map(load_train_image, num_parallel_calls = tf.data.experimental.AUTOTUNE)\r\n",
        "train_dataset = train_dataset.batch(1)\r\n",
        "\"\"\"\r\n",
        "for inimg, tgimg in train_dataset.take(5): #Para probar las imagenes\r\n",
        "  plt.imshow(((tgimg[0,...]) + 1) / 2)\r\n",
        "  plt.show()\"\"\"\r\n",
        "\r\n",
        "test_dataset = tf.data.Dataset.from_tensor_slices(tr_urls)\r\n",
        "test_dataset = test_dataset.map(load_test_image, num_parallel_calls = tf.data.experimental.AUTOTUNE)\r\n",
        "test_dataset = test_dataset.batch(1)\r\n"
      ],
      "execution_count": 122,
      "outputs": []
    },
    {
      "cell_type": "code",
      "metadata": {
        "colab": {
          "base_uri": "https://localhost:8080/"
        },
        "id": "c1AVWHMJdm96",
        "outputId": "3dbbe19c-5521-46cc-9acf-c69c7d820002"
      },
      "source": [
        " from tensorflow.keras import *#nice\r\n",
        " from tensorflow.keras.layers import *\r\n",
        "\r\n",
        " def downsample(filters, apply_batchnorm = True):\r\n",
        "\r\n",
        "   result = Sequential()\r\n",
        "\r\n",
        "   initializer = tf.random_normal_initializer(0, 0.02)\r\n",
        "\r\n",
        "   #Capa convolucional\r\n",
        "\r\n",
        "   result.add(Conv2D(filters,\r\n",
        "                     kernel_size = 4,\r\n",
        "                     strides = 2,\r\n",
        "                     padding = \"same\",\r\n",
        "                     kernel_initializer = initializer,\r\n",
        "                     use_bias =not apply_batchnorm))\r\n",
        "   \r\n",
        "   if apply_batchnorm:\r\n",
        "     #Capa de BatchNorm\r\n",
        "     result.add(BatchNormalization())\r\n",
        "\r\n",
        "   #Capa activa\r\n",
        "   result.add(LeakyReLU())\r\n",
        "   return result\r\n",
        "downsample(64) "
      ],
      "execution_count": 123,
      "outputs": [
        {
          "output_type": "execute_result",
          "data": {
            "text/plain": [
              "<tensorflow.python.keras.engine.sequential.Sequential at 0x7fdf8dbe44a8>"
            ]
          },
          "metadata": {
            "tags": []
          },
          "execution_count": 123
        }
      ]
    },
    {
      "cell_type": "code",
      "metadata": {
        "colab": {
          "base_uri": "https://localhost:8080/"
        },
        "id": "dNUX8ZOorkL9",
        "outputId": "e0680e3b-b242-49b4-e06b-c211654d24ca"
      },
      "source": [
        "def upsample(filters, apply_dropout = False):#Hasta aca todo bien\r\n",
        "\r\n",
        "   result = Sequential()\r\n",
        "\r\n",
        "   initializer = tf.random_normal_initializer(0, 0.02)\r\n",
        "\r\n",
        "   #Capa convolucional\r\n",
        "\r\n",
        "   result.add(Conv2DTranspose(filters, \r\n",
        "                              kernel_size = 4,\r\n",
        "                              strides = 2,\r\n",
        "                              padding = \"same\",\r\n",
        "                              kernel_initializer = initializer,\r\n",
        "                              use_bias=False))\r\n",
        "   \r\n",
        "   #Capa de BatchNorm\r\n",
        "   result.add(BatchNormalization())\r\n",
        "   \r\n",
        "   if apply_dropout:\r\n",
        "     #Capa de Dropout  \r\n",
        "     result.add(Dropout(0.5))\r\n",
        "     \r\n",
        "\r\n",
        "   #Capa activa\r\n",
        "   result.add(ReLU())\r\n",
        "   return result\r\n",
        "upsample(64) "
      ],
      "execution_count": 124,
      "outputs": [
        {
          "output_type": "execute_result",
          "data": {
            "text/plain": [
              "<tensorflow.python.keras.engine.sequential.Sequential at 0x7fdf8df69cc0>"
            ]
          },
          "metadata": {
            "tags": []
          },
          "execution_count": 124
        }
      ]
    },
    {
      "cell_type": "code",
      "metadata": {
        "colab": {
          "base_uri": "https://localhost:8080/",
          "height": 35
        },
        "id": "0TjYDsEAw9NH",
        "outputId": "81740e1d-187b-4b1e-d964-69c073bbfa8e"
      },
      "source": [
        "def Generator():#Todo lo que esta abajo funciona bien\r\n",
        "  \r\n",
        "  inputs = tf.keras.layers.Input(shape=[None, None,3])\r\n",
        "\r\n",
        "  down_stack = [\r\n",
        "    downsample(64, apply_batchnorm=False),  #(bs , 128, 128, 64)\r\n",
        "    downsample(128),                        #(bs , 64, 64, 128)\r\n",
        "    downsample(256),                        #(bs , 32, 32, 256)\r\n",
        "    downsample(512),                        #(bs , 16, 16, 512)\r\n",
        "    downsample(512),                        #(bs , 8, 16, 512)\r\n",
        "    downsample(512),                        #(bs , 4, 4, 512)\r\n",
        "    downsample(512),                        #(bs , 2, 2, 512)\r\n",
        "    downsample(512),                        #(bs , 1, 1, 512)\r\n",
        "  ]\r\n",
        "  up_stack = [\r\n",
        "    upsample(512, apply_dropout=True),      #(bs, 2, 2, 1024)\r\n",
        "    upsample(512, apply_dropout=True),      #(bs, 4, 4, 1024)\r\n",
        "    upsample(512, apply_dropout=True),      #(bs, 8, 8, 1024)\r\n",
        "    upsample(512),                          #(bs, 16, 16, 1024)\r\n",
        "    upsample(256),                          #(bs, 32, 32, 512)\r\n",
        "    upsample(128),                          #(bs, 64, 64, 256)\r\n",
        "    upsample(64),                           #(bs, 128, 128, 128)\r\n",
        "  ]\r\n",
        "\r\n",
        "  initializer = tf.random_normal_initializer(0, 0.02)\r\n",
        "  last = Conv2DTranspose(filters=3,\r\n",
        "                         kernel_size = 4,\r\n",
        "                         strides = 2,\r\n",
        "                         padding = \"same\",\r\n",
        "                         kernel_initializer = initializer,\r\n",
        "                         activation = \"tanh\")  \r\n",
        "  x = inputs\r\n",
        "  s = []\r\n",
        "\r\n",
        "  concat = Concatenate()\r\n",
        "\r\n",
        "  for down in down_stack:\r\n",
        "    x = down(x)\r\n",
        "    s.append(x)\r\n",
        "\r\n",
        "  s = reversed(s[:-1])\r\n",
        "\r\n",
        "  for up, sk in zip(up_stack, s):\r\n",
        "    x = up(x)\r\n",
        "    x = concat([x, sk])\r\n",
        "\r\n",
        "  last = last(x)\r\n",
        "\r\n",
        "  return Model(inputs = inputs, outputs = last)\r\n",
        "\"\"\"\r\n",
        "generator = Generator()\r\n",
        "gen_output = generator(((inimg+1)*255),training=False)\r\n",
        "plt.imshow(gen_output[0,...])\"\"\""
      ],
      "execution_count": 125,
      "outputs": [
        {
          "output_type": "execute_result",
          "data": {
            "application/vnd.google.colaboratory.intrinsic+json": {
              "type": "string"
            },
            "text/plain": [
              "'\\ngenerator = Generator()\\ngen_output = generator(((inimg+1)*255),training=False)\\nplt.imshow(gen_output[0,...])'"
            ]
          },
          "metadata": {
            "tags": []
          },
          "execution_count": 125
        }
      ]
    },
    {
      "cell_type": "code",
      "metadata": {
        "colab": {
          "base_uri": "https://localhost:8080/",
          "height": 286
        },
        "id": "vBJLmNkOQrKo",
        "outputId": "330ab065-8caa-4912-8c1f-aa00f68386ca"
      },
      "source": [
        "def Discriminator():\r\n",
        "  ini = Input(shape=[None, None, 3], name = \"imput_img\")\r\n",
        "  gen = Input(shape=[None, None, 3], name = \"gener_img\")\r\n",
        "\r\n",
        "  con = concatenate([ini, gen])\r\n",
        "  initializer = tf.random_normal_initializer(0, 0.02)\r\n",
        "\r\n",
        "  down1 = downsample(64, apply_batchnorm=False)(con)\r\n",
        "  down2 = downsample(128)(down1)\r\n",
        "  down3 = downsample(256)(down2)\r\n",
        "  down4 = downsample(512)(down3)\r\n",
        "\r\n",
        "  last = tf.keras.layers.Conv2D(filters=1,\r\n",
        "                                kernel_size=4,\r\n",
        "                                strides=1,\r\n",
        "                                kernel_initializer=initializer,\r\n",
        "                                padding = \"same\")(down4)\r\n",
        "  return tf.keras.Model(inputs=[ini, gen], outputs=last)\r\n",
        "discriminator = Discriminator()\r\n",
        "\r\n",
        "disc_out = discriminator([((inimg+1)*255), gen_output], training=False)\r\n",
        "\r\n",
        "plt.imshow(disc_out[0,...,-1],vmin=-20, vmax=20, cmap='RdBu_r')\r\n",
        "plt.colorbar()\r\n",
        "\r\n",
        "disc_out.shape"
      ],
      "execution_count": 139,
      "outputs": [
        {
          "output_type": "execute_result",
          "data": {
            "text/plain": [
              "TensorShape([1, 16, 16, 1])"
            ]
          },
          "metadata": {
            "tags": []
          },
          "execution_count": 139
        },
        {
          "output_type": "display_data",
          "data": {
            "image/png": "[encoded data removed]",
            "text/plain": [
              "<Figure size 432x288 with 2 Axes>"
            ]
          },
          "metadata": {
            "tags": [],
            "needs_background": "light"
          }
        }
      ]
    },
    {
      "cell_type": "code",
      "metadata": {
        "id": "jmuDGoSJWISs"
      },
      "source": [
        "loss_object = tf.keras.losses.BinaryCrossentropy(from_logits=True)"
      ],
      "execution_count": 127,
      "outputs": []
    },
    {
      "cell_type": "code",
      "metadata": {
        "id": "XlbhYvVtWfOT"
      },
      "source": [
        "def descriminator_loss(disc_real_output, disc_generated_output):\r\n",
        "  #Diferencia entre los verdaderos y los que detecta el discriminador como falsos\r\n",
        "\r\n",
        "  real_loss = loss_object(tf.ones_like(disc_real_output), disc_real_output)\r\n",
        "  #Diferencia entre los false por se generado y el detectado por el discriminador\r\n",
        "  \r\n",
        "  generated_loss = loss_object(tf.zeros_like(disc_generated_output), disc_generated_output)\r\n",
        "\r\n",
        "  total_disc_loss = real_loss + generated_loss\r\n",
        "\r\n",
        "  return total_disc_loss"
      ],
      "execution_count": 128,
      "outputs": []
    },
    {
      "cell_type": "code",
      "metadata": {
        "id": "POWx99WyaubJ"
      },
      "source": [
        "LAMBA = 100\r\n",
        "#Le pasamos ambas imagenes, la imagen generada y la que queremos tener como resultado\r\n",
        "def generator_loss(disc_generated_output,gen_output, target):\r\n",
        "\r\n",
        "  gan_loss = loss_object(tf.ones_like(disc_generated_output),disc_generated_output)\r\n",
        "  #mean absolute error :/\r\n",
        "  l1_loss=tf.reduce_mean(tf.abs(target - gen_output))\r\n",
        "  total_gen_loss = gan_loss + (LAMBA * l1_loss)\r\n",
        "  return total_gen_loss"
      ],
      "execution_count": 129,
      "outputs": []
    },
    {
      "cell_type": "code",
      "metadata": {
        "colab": {
          "base_uri": "https://localhost:8080/"
        },
        "id": "tGCl2HaTcXZa",
        "outputId": "2dc50dce-427b-429a-a506-d51b302e9a50"
      },
      "source": [
        "#Definimos los optimizadores y guardamos los checkpoins\r\n",
        "#Guardamos los estados de entrenamientos de la red neuronal(Por si se cae)\r\n",
        "import os \r\n",
        "\r\n",
        "generator_optimizer     = tf.keras.optimizers.Adam(2e-4, beta_1=0.5)\r\n",
        "discriminator_optimizer = tf.keras.optimizers.Adam(2e-4, beta_1=0.5)\r\n",
        "\r\n",
        "checkpoint_prefix = os.path.join(CKPATH, \"ckpt\")\r\n",
        "checkpoint = tf.train.Checkpoint(generator_optimizer=generator_optimizer,\r\n",
        "                                 discriminator_optimizer=discriminator_optimizer,\r\n",
        "                                 generator = generator,\r\n",
        "                                 discriminator = discriminator)\r\n",
        "checkpoint.restore(tf.train.latest_checkpoint(CKPATH))#.assert_consumed()  #Falta el assert_consumed() Pero no se porque tira errores"
      ],
      "execution_count": 130,
      "outputs": [
        {
          "output_type": "execute_result",
          "data": {
            "text/plain": [
              "<tensorflow.python.training.tracking.util.InitializationOnlyStatus at 0x7fdf8da96978>"
            ]
          },
          "metadata": {
            "tags": []
          },
          "execution_count": 130
        }
      ]
    },
    {
      "cell_type": "code",
      "metadata": {
        "id": "T2EZuyVBm2M1"
      },
      "source": [
        "def generate_images(model, test_input, tar, save_filename = False, display_imgs=True):\r\n",
        "  prediction = model(test_input, training = True)\r\n",
        "  \r\n",
        "  if save_filename:\r\n",
        "    tf.keras.preprocessing.image.save_img(PATH + 'outputB/' + save_filename + 'jpg', prediction[0,...])\r\n",
        "\r\n",
        "  plt.figure(figsize=(10,10))\r\n",
        "\r\n",
        "  display_list = [test_input[0], tar[0], prediction[0]]\r\n",
        "  title = ['Input Image', 'Ground Truth', 'Predictec Image']\r\n",
        "\r\n",
        "  if display_imgs:\r\n",
        "    for i in range(3):\r\n",
        "      plt.subplot(1, 3, i+1)\r\n",
        "      plt.title(title[i])\r\n",
        "      #Getting the pixel values between [0, 1] to plot it\r\n",
        "      plt.imshow(display_list[i]* 0.5 + 0.5)\r\n",
        "      plt.axis('off')\r\n",
        "\r\n",
        "  plt.show() "
      ],
      "execution_count": 131,
      "outputs": []
    },
    {
      "cell_type": "markdown",
      "metadata": {
        "id": "dCfScJL7JGwM"
      },
      "source": [
        "# Nueva sección"
      ]
    },
    {
      "cell_type": "code",
      "metadata": {
        "id": "ebDHTgdNwsSY"
      },
      "source": [
        "@tf.function()\r\n",
        "def train_step(input_image, target):\r\n",
        "  with tf.GradientTape() as gen_tape, tf.GradientTape() as discr_tape:\r\n",
        "\r\n",
        "    output_image = generator(input_image, training = True)\r\n",
        "\r\n",
        "    output_gen_discr = discriminator([output_image, input_image], training = True)\r\n",
        "\r\n",
        "    output_trg_discr = discriminator([target, input_image], training =True)\r\n",
        "\r\n",
        "    discr_loss = descriminator_loss(output_trg_discr, output_gen_discr)\r\n",
        "\r\n",
        "    gen_loss = generator_loss(output_gen_discr, output_image, target)\r\n",
        "\r\n",
        "\r\n",
        "    generator_grads = gen_tape.gradient(gen_loss, generator.trainable_variables)\r\n",
        "\r\n",
        "    discriminator_grads = discr_tape.gradient(discr_loss, discriminator.trainable_variables)\r\n",
        "\r\n",
        "    generator_optimizer.apply_gradients(zip(generator_grads, generator.trainable_variables))\r\n",
        "\r\n",
        "    discriminator_optimizer.apply_gradients(zip(discriminator_grads, discriminator.trainable_variables))"
      ],
      "execution_count": 132,
      "outputs": []
    },
    {
      "cell_type": "code",
      "metadata": {
        "id": "VX_tpjvrtjW9"
      },
      "source": [
        "from IPython.display import clear_output\r\n",
        "\r\n",
        "def train(dataset, epochs):\r\n",
        "  for epoch in range(epochs):\r\n",
        "\r\n",
        "    imgi=0\r\n",
        "    for input_image, target in dataset:\r\n",
        "      print('epoch ' + str(epoch) + ' - train: ' + str(imgi) + '/' + str(len(tr_urls)))\r\n",
        "      imgi+=1\r\n",
        "      train_step(input_image, target)\r\n",
        "      clear_output(wait = True)\r\n",
        "    imgi=0\r\n",
        "    for inp, tar in test_dataset.take(5):\r\n",
        "      generate_images(generator, inp, tar, str(imgi) + '_' + str(epoch), display_imgs=True)\r\n",
        "      imgi+=1\r\n",
        "    #Guardo un checkpoint cada 20 procesos\r\n",
        "    if (epoch +1) % 25 == 0:\r\n",
        "      checkpoint.save(file_prefix=checkpoint_prefix)\r\n"
      ],
      "execution_count": 133,
      "outputs": []
    },
    {
      "cell_type": "code",
      "metadata": {
        "colab": {
          "base_uri": "https://localhost:8080/",
          "height": 992
        },
        "id": "IzTLMfkYAXVV",
        "outputId": "3b53212e-9a44-4dd2-8acf-c9b3d3a1e24f"
      },
      "source": [
        "train(train_dataset, 100)"
      ],
      "execution_count": 134,
      "outputs": [
        {
          "output_type": "error",
          "ename": "ValueError",
          "evalue": "ignored",
          "traceback": [
            "\u001b[0;31m---------------------------------------------------------------------------\u001b[0m",
            "\u001b[0;31mKeyError\u001b[0m                                  Traceback (most recent call last)",
            "\u001b[0;32m/usr/local/lib/python3.6/dist-packages/PIL/Image.py\u001b[0m in \u001b[0;36msave\u001b[0;34m(self, fp, format, **params)\u001b[0m\n\u001b[1;32m   2081\u001b[0m             \u001b[0;32mtry\u001b[0m\u001b[0;34m:\u001b[0m\u001b[0;34m\u001b[0m\u001b[0;34m\u001b[0m\u001b[0m\n\u001b[0;32m-> 2082\u001b[0;31m                 \u001b[0mformat\u001b[0m \u001b[0;34m=\u001b[0m \u001b[0mEXTENSION\u001b[0m\u001b[0;34m[\u001b[0m\u001b[0mext\u001b[0m\u001b[0;34m]\u001b[0m\u001b[0;34m\u001b[0m\u001b[0;34m\u001b[0m\u001b[0m\n\u001b[0m\u001b[1;32m   2083\u001b[0m             \u001b[0;32mexcept\u001b[0m \u001b[0mKeyError\u001b[0m\u001b[0;34m:\u001b[0m\u001b[0;34m\u001b[0m\u001b[0;34m\u001b[0m\u001b[0m\n",
            "\u001b[0;31mKeyError\u001b[0m: ''",
            "\nDuring handling of the above exception, another exception occurred:\n",
            "\u001b[0;31mValueError\u001b[0m                                Traceback (most recent call last)",
            "\u001b[0;32m<ipython-input-134-5df6ad43e660>\u001b[0m in \u001b[0;36m<module>\u001b[0;34m()\u001b[0m\n\u001b[0;32m----> 1\u001b[0;31m \u001b[0mtrain\u001b[0m\u001b[0;34m(\u001b[0m\u001b[0mtrain_dataset\u001b[0m\u001b[0;34m,\u001b[0m \u001b[0;36m100\u001b[0m\u001b[0;34m)\u001b[0m\u001b[0;34m\u001b[0m\u001b[0;34m\u001b[0m\u001b[0m\n\u001b[0m",
            "\u001b[0;32m<ipython-input-133-217441dfbc7f>\u001b[0m in \u001b[0;36mtrain\u001b[0;34m(dataset, epochs)\u001b[0m\n\u001b[1;32m     12\u001b[0m     \u001b[0mimgi\u001b[0m\u001b[0;34m=\u001b[0m\u001b[0;36m0\u001b[0m\u001b[0;34m\u001b[0m\u001b[0;34m\u001b[0m\u001b[0m\n\u001b[1;32m     13\u001b[0m     \u001b[0;32mfor\u001b[0m \u001b[0minp\u001b[0m\u001b[0;34m,\u001b[0m \u001b[0mtar\u001b[0m \u001b[0;32min\u001b[0m \u001b[0mtest_dataset\u001b[0m\u001b[0;34m.\u001b[0m\u001b[0mtake\u001b[0m\u001b[0;34m(\u001b[0m\u001b[0;36m5\u001b[0m\u001b[0;34m)\u001b[0m\u001b[0;34m:\u001b[0m\u001b[0;34m\u001b[0m\u001b[0;34m\u001b[0m\u001b[0m\n\u001b[0;32m---> 14\u001b[0;31m       \u001b[0mgenerate_images\u001b[0m\u001b[0;34m(\u001b[0m\u001b[0mgenerator\u001b[0m\u001b[0;34m,\u001b[0m \u001b[0minp\u001b[0m\u001b[0;34m,\u001b[0m \u001b[0mtar\u001b[0m\u001b[0;34m,\u001b[0m \u001b[0mstr\u001b[0m\u001b[0;34m(\u001b[0m\u001b[0mimgi\u001b[0m\u001b[0;34m)\u001b[0m \u001b[0;34m+\u001b[0m \u001b[0;34m'_'\u001b[0m \u001b[0;34m+\u001b[0m \u001b[0mstr\u001b[0m\u001b[0;34m(\u001b[0m\u001b[0mepoch\u001b[0m\u001b[0;34m)\u001b[0m\u001b[0;34m,\u001b[0m \u001b[0mdisplay_imgs\u001b[0m\u001b[0;34m=\u001b[0m\u001b[0;32mTrue\u001b[0m\u001b[0;34m)\u001b[0m\u001b[0;34m\u001b[0m\u001b[0;34m\u001b[0m\u001b[0m\n\u001b[0m\u001b[1;32m     15\u001b[0m       \u001b[0mimgi\u001b[0m\u001b[0;34m+=\u001b[0m\u001b[0;36m1\u001b[0m\u001b[0;34m\u001b[0m\u001b[0;34m\u001b[0m\u001b[0m\n\u001b[1;32m     16\u001b[0m     \u001b[0;31m#Guardo un checkpoint cada 20 procesos\u001b[0m\u001b[0;34m\u001b[0m\u001b[0;34m\u001b[0m\u001b[0;34m\u001b[0m\u001b[0m\n",
            "\u001b[0;32m<ipython-input-131-2ff8ae38c226>\u001b[0m in \u001b[0;36mgenerate_images\u001b[0;34m(model, test_input, tar, save_filename, display_imgs)\u001b[0m\n\u001b[1;32m      3\u001b[0m \u001b[0;34m\u001b[0m\u001b[0m\n\u001b[1;32m      4\u001b[0m   \u001b[0;32mif\u001b[0m \u001b[0msave_filename\u001b[0m\u001b[0;34m:\u001b[0m\u001b[0;34m\u001b[0m\u001b[0;34m\u001b[0m\u001b[0m\n\u001b[0;32m----> 5\u001b[0;31m     \u001b[0mtf\u001b[0m\u001b[0;34m.\u001b[0m\u001b[0mkeras\u001b[0m\u001b[0;34m.\u001b[0m\u001b[0mpreprocessing\u001b[0m\u001b[0;34m.\u001b[0m\u001b[0mimage\u001b[0m\u001b[0;34m.\u001b[0m\u001b[0msave_img\u001b[0m\u001b[0;34m(\u001b[0m\u001b[0mPATH\u001b[0m \u001b[0;34m+\u001b[0m \u001b[0;34m'outputB/'\u001b[0m \u001b[0;34m+\u001b[0m \u001b[0msave_filename\u001b[0m \u001b[0;34m+\u001b[0m \u001b[0;34m'jpg'\u001b[0m\u001b[0;34m,\u001b[0m \u001b[0mprediction\u001b[0m\u001b[0;34m[\u001b[0m\u001b[0;36m0\u001b[0m\u001b[0;34m,\u001b[0m\u001b[0;34m...\u001b[0m\u001b[0;34m]\u001b[0m\u001b[0;34m)\u001b[0m\u001b[0;34m\u001b[0m\u001b[0;34m\u001b[0m\u001b[0m\n\u001b[0m\u001b[1;32m      6\u001b[0m \u001b[0;34m\u001b[0m\u001b[0m\n\u001b[1;32m      7\u001b[0m   \u001b[0mplt\u001b[0m\u001b[0;34m.\u001b[0m\u001b[0mfigure\u001b[0m\u001b[0;34m(\u001b[0m\u001b[0mfigsize\u001b[0m\u001b[0;34m=\u001b[0m\u001b[0;34m(\u001b[0m\u001b[0;36m10\u001b[0m\u001b[0;34m,\u001b[0m\u001b[0;36m10\u001b[0m\u001b[0;34m)\u001b[0m\u001b[0;34m)\u001b[0m\u001b[0;34m\u001b[0m\u001b[0;34m\u001b[0m\u001b[0m\n",
            "\u001b[0;32m/usr/local/lib/python3.6/dist-packages/tensorflow/python/keras/preprocessing/image.py\u001b[0m in \u001b[0;36msave_img\u001b[0;34m(path, x, data_format, file_format, scale, **kwargs)\u001b[0m\n\u001b[1;32m    260\u001b[0m                  \u001b[0mdata_format\u001b[0m\u001b[0;34m=\u001b[0m\u001b[0mdata_format\u001b[0m\u001b[0;34m,\u001b[0m\u001b[0;34m\u001b[0m\u001b[0;34m\u001b[0m\u001b[0m\n\u001b[1;32m    261\u001b[0m                  \u001b[0mfile_format\u001b[0m\u001b[0;34m=\u001b[0m\u001b[0mfile_format\u001b[0m\u001b[0;34m,\u001b[0m\u001b[0;34m\u001b[0m\u001b[0;34m\u001b[0m\u001b[0m\n\u001b[0;32m--> 262\u001b[0;31m                  scale=scale, **kwargs)\n\u001b[0m\u001b[1;32m    263\u001b[0m \u001b[0;34m\u001b[0m\u001b[0m\n\u001b[1;32m    264\u001b[0m \u001b[0;34m\u001b[0m\u001b[0m\n",
            "\u001b[0;32m/usr/local/lib/python3.6/dist-packages/keras_preprocessing/image/utils.py\u001b[0m in \u001b[0;36msave_img\u001b[0;34m(path, x, data_format, file_format, scale, **kwargs)\u001b[0m\n\u001b[1;32m     74\u001b[0m                       'RGBA images, converting to RGB.')\n\u001b[1;32m     75\u001b[0m         \u001b[0mimg\u001b[0m \u001b[0;34m=\u001b[0m \u001b[0mimg\u001b[0m\u001b[0;34m.\u001b[0m\u001b[0mconvert\u001b[0m\u001b[0;34m(\u001b[0m\u001b[0;34m'RGB'\u001b[0m\u001b[0;34m)\u001b[0m\u001b[0;34m\u001b[0m\u001b[0;34m\u001b[0m\u001b[0m\n\u001b[0;32m---> 76\u001b[0;31m     \u001b[0mimg\u001b[0m\u001b[0;34m.\u001b[0m\u001b[0msave\u001b[0m\u001b[0;34m(\u001b[0m\u001b[0mpath\u001b[0m\u001b[0;34m,\u001b[0m \u001b[0mformat\u001b[0m\u001b[0;34m=\u001b[0m\u001b[0mfile_format\u001b[0m\u001b[0;34m,\u001b[0m \u001b[0;34m**\u001b[0m\u001b[0mkwargs\u001b[0m\u001b[0;34m)\u001b[0m\u001b[0;34m\u001b[0m\u001b[0;34m\u001b[0m\u001b[0m\n\u001b[0m\u001b[1;32m     77\u001b[0m \u001b[0;34m\u001b[0m\u001b[0m\n\u001b[1;32m     78\u001b[0m \u001b[0;34m\u001b[0m\u001b[0m\n",
            "\u001b[0;32m/usr/local/lib/python3.6/dist-packages/PIL/Image.py\u001b[0m in \u001b[0;36msave\u001b[0;34m(self, fp, format, **params)\u001b[0m\n\u001b[1;32m   2082\u001b[0m                 \u001b[0mformat\u001b[0m \u001b[0;34m=\u001b[0m \u001b[0mEXTENSION\u001b[0m\u001b[0;34m[\u001b[0m\u001b[0mext\u001b[0m\u001b[0;34m]\u001b[0m\u001b[0;34m\u001b[0m\u001b[0;34m\u001b[0m\u001b[0m\n\u001b[1;32m   2083\u001b[0m             \u001b[0;32mexcept\u001b[0m \u001b[0mKeyError\u001b[0m\u001b[0;34m:\u001b[0m\u001b[0;34m\u001b[0m\u001b[0;34m\u001b[0m\u001b[0m\n\u001b[0;32m-> 2084\u001b[0;31m                 \u001b[0;32mraise\u001b[0m \u001b[0mValueError\u001b[0m\u001b[0;34m(\u001b[0m\u001b[0;34m\"unknown file extension: {}\"\u001b[0m\u001b[0;34m.\u001b[0m\u001b[0mformat\u001b[0m\u001b[0;34m(\u001b[0m\u001b[0mext\u001b[0m\u001b[0;34m)\u001b[0m\u001b[0;34m)\u001b[0m\u001b[0;34m\u001b[0m\u001b[0;34m\u001b[0m\u001b[0m\n\u001b[0m\u001b[1;32m   2085\u001b[0m \u001b[0;34m\u001b[0m\u001b[0m\n\u001b[1;32m   2086\u001b[0m         \u001b[0;32mif\u001b[0m \u001b[0mformat\u001b[0m\u001b[0;34m.\u001b[0m\u001b[0mupper\u001b[0m\u001b[0;34m(\u001b[0m\u001b[0;34m)\u001b[0m \u001b[0;32mnot\u001b[0m \u001b[0;32min\u001b[0m \u001b[0mSAVE\u001b[0m\u001b[0;34m:\u001b[0m\u001b[0;34m\u001b[0m\u001b[0;34m\u001b[0m\u001b[0m\n",
            "\u001b[0;31mValueError\u001b[0m: unknown file extension: "
          ]
        }
      ]
    }
  ]
}